{
  "nbformat": 4,
  "nbformat_minor": 0,
  "metadata": {
    "colab": {
      "name": "test_gcp.ipynb",
      "provenance": [],
      "collapsed_sections": [],
      "include_colab_link": true
    },
    "kernelspec": {
      "name": "python3",
      "display_name": "Python 3"
    }
  },
  "cells": [
    {
      "cell_type": "markdown",
      "metadata": {
        "id": "view-in-github",
        "colab_type": "text"
      },
      "source": [
        "<a href=\"https://colab.research.google.com/github/petrovichp/ppp_back_test/blob/master/test_gcp.ipynb\" target=\"_parent\"><img src=\"https://colab.research.google.com/assets/colab-badge.svg\" alt=\"Open In Colab\"/></a>"
      ]
    },
    {
      "cell_type": "code",
      "metadata": {
        "id": "UVCiBFTtRkgw",
        "colab_type": "code",
        "colab": {}
      },
      "source": [
        "from google.colab import auth\n",
        "auth.authenticate_user()\n",
        "from google.cloud import bigquery\n",
        "from google.cloud import datastore\n",
        "from datetime import datetime\n",
        "import json"
      ],
      "execution_count": 0,
      "outputs": []
    },
    {
      "cell_type": "code",
      "metadata": {
        "id": "izq-4IPPRkf_",
        "colab_type": "code",
        "colab": {
          "base_uri": "https://localhost:8080/",
          "height": 302
        },
        "outputId": "a7206064-052f-49a1-e100-1e28f823a7ec"
      },
      "source": [
        "BQ_FOLDER = 'itraday5min'\n",
        "BQ_AV_TABLE = '{}_5min_stock_hist'.format('av')\n",
        "project_id = 'trading-246711'\n",
        "\n",
        "\n",
        "#Big query get dowloaded tickers and check if they downloaded in full\n",
        "client = bigquery.Client(project=project_id)\n",
        "date = datetime(2019,11,8)\n",
        "\n",
        "query_string = \"SELECT ticker,count(*) FROM `{}.{}.{}` WHERE date = '{}' GROUP BY ticker\".format(project_id,BQ_FOLDER,BQ_AV_TABLE,date.strftime('%Y-%m-%d'))\n",
        "sql_query = client.query(query_string)\n",
        "not_full_downloaded_tickers = []\n",
        "for row in sql_query:\n",
        "  temp = list(row.values())\n",
        "  if temp[1] !=78:\n",
        "    not_full_downloaded_tickers.append([temp[0],temp[1]])\n",
        "\n",
        "not_full_downloaded_tickers   "
      ],
      "execution_count": 4,
      "outputs": [
        {
          "output_type": "execute_result",
          "data": {
            "text/plain": [
              "[['TDG', 76],\n",
              " ['FRT', 75],\n",
              " ['TFX', 75],\n",
              " ['ROP', 77],\n",
              " ['ISRG', 77],\n",
              " ['NVR', 71],\n",
              " ['IT', 30],\n",
              " ['BR', 31],\n",
              " ['DISCK', 77],\n",
              " ['SHW', 77],\n",
              " ['NDAQ', 77],\n",
              " ['RE', 76],\n",
              " ['IEX', 77],\n",
              " ['CME', 19],\n",
              " ['COO', 77],\n",
              " ['SNA', 76],\n",
              " ['ESS', 76]]"
            ]
          },
          "metadata": {
            "tags": []
          },
          "execution_count": 4
        }
      ]
    },
    {
      "cell_type": "code",
      "metadata": {
        "id": "lL2xG3VqEgJk",
        "colab_type": "code",
        "colab": {}
      },
      "source": [
        ""
      ],
      "execution_count": 0,
      "outputs": []
    }
  ]
}